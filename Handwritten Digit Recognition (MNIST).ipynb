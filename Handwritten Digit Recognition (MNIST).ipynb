{
 "cells": [
  {
   "cell_type": "markdown",
   "id": "e4d23819-32b5-49f6-b47b-c6042ba75b1f",
   "metadata": {},
   "source": [
    "# <u>Building a Neural Network from Scratch: MNIST Digit Classifier</u>\n",
    "\n",
    "This notebook walks through the <b>entire process of building a neural network from scratch</b> - without using high level libraries such as Tensorflow or PyTorch. \n",
    "\n",
    "We shall train our model on the <b>MNIST handwritten digit dataset</b>, which contains greyscale images of digits from 0 to 9. Each image is a $28 \\times 28$ pixel image which is a total of 784 pixels per image. 10000 such images are then stored as a 2D matrix with 10000 rows and 785 columns (1 column is for the labels and the others carry the pixel values). The goal is to build a basic image classifier that can recognize these digits.\n",
    "\n",
    "#### What makes this project different?\n",
    "\n",
    "- Every single line is hand coded so that we gain a comprehensive understanding of what is going on under the hood.\n",
    "- Forward and Backpropagation is implemented from first principles.\n",
    "- Exploration of the roles of weights, biases, activation functions, and loss functions.\n",
    "\n",
    "This has also been a log of my journey attempting to learn machine learning and how to build a neural network.\n",
    "\n",
    "By the end, this notebook should provide you with the following:\n",
    "\n",
    "- A working neural network\n",
    "- A comprehensive understanding about the interior of a neural network and how they learn\n",
    "- A good foundation to build more complex neural networks"
   ]
  },
  {
   "cell_type": "markdown",
   "id": "22d6f92b-863e-484f-862f-52c2f0ea1e18",
   "metadata": {},
   "source": [
    "---"
   ]
  },
  {
   "cell_type": "markdown",
   "id": "9d990689-a995-43fa-aa8a-09d1f94c94fc",
   "metadata": {},
   "source": [
    "---"
   ]
  },
  {
   "cell_type": "markdown",
   "id": "65536715-0765-4571-875f-e9a06e2ab5f4",
   "metadata": {},
   "source": [
    "### Loading Data"
   ]
  },
  {
   "cell_type": "code",
   "execution_count": 21,
   "id": "af462924-4709-46de-a521-9dbcd31777dc",
   "metadata": {},
   "outputs": [
    {
     "name": "stdout",
     "output_type": "stream",
     "text": [
      "   label  1x1  1x2  1x3  1x4  1x5  1x6  1x7  1x8  1x9  ...  28x19  28x20  \\\n",
      "0      7    0    0    0    0    0    0    0    0    0  ...      0      0   \n",
      "1      2    0    0    0    0    0    0    0    0    0  ...      0      0   \n",
      "2      1    0    0    0    0    0    0    0    0    0  ...      0      0   \n",
      "3      0    0    0    0    0    0    0    0    0    0  ...      0      0   \n",
      "4      4    0    0    0    0    0    0    0    0    0  ...      0      0   \n",
      "\n",
      "   28x21  28x22  28x23  28x24  28x25  28x26  28x27  28x28  \n",
      "0      0      0      0      0      0      0      0      0  \n",
      "1      0      0      0      0      0      0      0      0  \n",
      "2      0      0      0      0      0      0      0      0  \n",
      "3      0      0      0      0      0      0      0      0  \n",
      "4      0      0      0      0      0      0      0      0  \n",
      "\n",
      "[5 rows x 785 columns]\n"
     ]
    }
   ],
   "source": [
    "import numpy as np\n",
    "import pandas as pd\n",
    "import matplotlib.pyplot as plt\n",
    "\n",
    "check_data = pd.read_csv('/home/niranjanharishankar/ML/DATASETS/mnist_test.csv')\n",
    "print(check_data.head())\n",
    "\n",
    "data = np.loadtxt('/home/niranjanharishankar/ML/DATASETS/mnist_test.csv', delimiter = ',', skiprows = 1)"
   ]
  },
  {
   "cell_type": "markdown",
   "id": "5917d605-e3f1-4a66-9596-a4902d9bf654",
   "metadata": {},
   "source": [
    "---"
   ]
  },
  {
   "cell_type": "markdown",
   "id": "ea2e6a93-e30e-4db8-bd60-d3e8e1f6a635",
   "metadata": {},
   "source": [
    "Here the delimiter defines how each column separated. For CSV files, the delimiter is a comma ( , ).\n",
    "\n",
    "The skiprow is done so that while reading, the first row is skipped. The first row often contains the column headings and is therefore omitted as it is unnecessary. I have verified it, nevertheless."
   ]
  },
  {
   "cell_type": "markdown",
   "id": "784b6e13-bbdf-48a2-b0f8-895a35e5a060",
   "metadata": {},
   "source": [
    "---"
   ]
  },
  {
   "cell_type": "markdown",
   "id": "e36bca24-3fb1-4196-a4f3-c793e4a97f50",
   "metadata": {},
   "source": [
    "### Normalization"
   ]
  },
  {
   "cell_type": "code",
   "execution_count": 26,
   "id": "1f5a2a42-9b1c-43f6-87cb-5d02a1e63b7b",
   "metadata": {},
   "outputs": [
    {
     "name": "stdout",
     "output_type": "stream",
     "text": [
      "(10000, 784)\n",
      "Min pixel value in  set: 0.0\n",
      "Max pixel value in  set: 1.0\n"
     ]
    }
   ],
   "source": [
    "x = data[:,1:]   #all columns except the first column\n",
    "y = data[:,0]   #first column is the label\n",
    "\n",
    "print(x.shape)\n",
    "#we now normalize the data\"\n",
    "\n",
    "x = x / 255.0\n",
    "\n",
    "print(\"Min pixel value in  set:\", x.min())\n",
    "print(\"Max pixel value in  set:\", x.max())"
   ]
  },
  {
   "cell_type": "markdown",
   "id": "b4754657-6bce-40ce-b89b-6279ca9ef974",
   "metadata": {},
   "source": [
    "---"
   ]
  },
  {
   "cell_type": "markdown",
   "id": "66bc9041-8dcd-43aa-8b59-4f384a174784",
   "metadata": {},
   "source": [
    "We normalize the data for the following reasons:\n",
    "\n",
    "- helps the neural network learn faster\n",
    "     * neural networks work best when the inputs are in a similar, small range\n",
    "     * large inputs like 255 can lead to large activations, which can lead to unstable gradients, which in turn may lead to slower or failed        training\n",
    "- prevents numerical instability\n",
    "     * for large inputs, exponents may explode (softmax)\n",
    "     * avoids overflow (very huge number)\n",
    "- gradient descent becomes smoother\n",
    "     * features of different scales confuse optimizer\n",
    "     * normalized data helps gradient to point in the right direction consistently\n",
    "\n",
    "We have performed a simple check on the normalized dataset and we see that the minimum is 0 and the maximum is 1, as intended."
   ]
  },
  {
   "cell_type": "markdown",
   "id": "f07811e9-1a4b-426d-95b4-91f515e3d8e6",
   "metadata": {},
   "source": [
    "---"
   ]
  },
  {
   "cell_type": "markdown",
   "id": "e5accd5f-5195-46e8-b7f3-caeaa3c4c144",
   "metadata": {},
   "source": [
    "### Test/Train Split"
   ]
  },
  {
   "cell_type": "code",
   "execution_count": 31,
   "id": "129aa2b3-5001-4bd7-b9ee-6b3658ed8fc1",
   "metadata": {},
   "outputs": [],
   "source": [
    "#shuffle the indices first\n",
    "indices = np.arange(x.shape[0])   #1\n",
    "np.random.seed(42)   #2\n",
    "np.random.shuffle(indices)   #3\n",
    "\n",
    "#we now shuffle the dataset\n",
    "x = x[indices]   \n",
    "y = y[indices]\n",
    "\n",
    "#split the dataset that has been shuffled\n",
    "x_train, x_test = x[:6000], x[6000:]\n",
    "y_train, y_test = y[:6000], y[6000:]"
   ]
  },
  {
   "cell_type": "code",
   "execution_count": 32,
   "id": "9fab2222-e4af-41a4-afb2-2ac3f6aa8952",
   "metadata": {},
   "outputs": [
    {
     "name": "stdout",
     "output_type": "stream",
     "text": [
      "(6000, 784)\n"
     ]
    }
   ],
   "source": [
    "print(x_train.shape)"
   ]
  },
  {
   "cell_type": "markdown",
   "id": "e425ae64-1bb3-43ff-8b00-49bd5a6c4290",
   "metadata": {},
   "source": [
    "---"
   ]
  },
  {
   "cell_type": "markdown",
   "id": "82f441c1-0324-41ed-a2f9-8b3587dcba55",
   "metadata": {},
   "source": [
    "We need to establish a few things. Why do we need to split the dataset? \n",
    "\n",
    "When we split the dataset, we create two sets:\n",
    "\n",
    "- Training set\n",
    "   * Used to train the model\n",
    "- Testing set\n",
    "   - Used to evaluate the performance of the data on unseen dataset\n",
    "\n",
    "We cannot train and test on the same dataset because if we do that, it will appear as though the model is performing extremely well. As though it has memorize. This is called <u><b>overfitting</b></u>. In order to test its learning capability, we test it on new data it has not seen yet. We can gauge accurately how well it is performing in this manner. \n",
    "\n",
    "Now, why do we need to shuffle the rows? \n",
    "\n",
    "The data might be ordered and this will mess up the training. If the data is ordered, the model essentially sees only one digit type at a time. This makes learning difficult and slow\n",
    "\n",
    "\n",
    "I shall now perform rubber ducking on the above segment.\n",
    "\n",
    "1. We create a list of numbers with 10000 elements. This shall be from 0 all the way up to 9999\n",
    "2. Here, we use the seed as sort of a password. When we randomize, we would like the same order of random numbers every time we run. Hence,     we use 42. We may use any integer as each integer houses a particular order of shuffling. The shuffling is therefore pseudo-random.\n",
    "3. We simply shuffle the indices.\n",
    "\n",
    "When we use the shuffled indices inside the arrays below, we end up shuffling the contents inside it."
   ]
  },
  {
   "cell_type": "markdown",
   "id": "f8eaeb32-2eb2-431f-b109-415e307ff280",
   "metadata": {},
   "source": [
    "---"
   ]
  },
  {
   "cell_type": "markdown",
   "id": "5b4126f6-ef53-40fa-af47-522bfc324094",
   "metadata": {},
   "source": [
    "### Visualization"
   ]
  },
  {
   "cell_type": "code",
   "execution_count": 37,
   "id": "7d7b92a4-f514-42a0-a4cc-ff5f40437905",
   "metadata": {},
   "outputs": [],
   "source": [
    "def show_image(index, dataset = 'train'):\n",
    "    if dataset == 'train':\n",
    "        image = x_train[index].reshape(28,28)\n",
    "        label = y_train[index]\n",
    "    else:\n",
    "        image = x_test[index].reshape(28,28)\n",
    "        label = y_test[index]\n",
    "\n",
    "    plt.imshow(image, cmap='grey')\n",
    "    plt.title(f'Label = {label}')\n",
    "    plt.axis('off')\n",
    "    plt.show()"
   ]
  },
  {
   "cell_type": "code",
   "execution_count": 38,
   "id": "5e47882f-5fe2-481a-ade0-0e84f3512900",
   "metadata": {},
   "outputs": [
    {
     "data": {
      "image/png": "[encoded data removed]",
      "text/plain": [
       "<Figure size 640x480 with 1 Axes>"
      ]
     },
     "metadata": {},
     "output_type": "display_data"
    },
    {
     "data": {
      "image/png": "[encoded data removed]",
      "text/plain": [
       "<Figure size 640x480 with 1 Axes>"
      ]
     },
     "metadata": {},
     "output_type": "display_data"
    }
   ],
   "source": [
    "show_image(1)\n",
    "\n",
    "show_image(2333, 'test')"
   ]
  },
  {
   "cell_type": "markdown",
   "id": "78d0a0aa-b426-4db0-b595-702e6c6b9369",
   "metadata": {},
   "source": [
    "---"
   ]
  },
  {
   "cell_type": "markdown",
   "id": "6e491125-c5b9-4425-8e25-bb55bebae9d3",
   "metadata": {},
   "source": [
    "We define a function <b>show_image()</b> in order to visualize our data and understand what we are dealing with.\n",
    "\n",
    "The function is defined with two arguments, index and the dataset. The dataset has been set to train as default. If we do not pass any argument which changes the default dataset from train, the if condition is satisfied and the row corresponding to the passed index is called. The row matrix of <b>784 elements</b> are of no use to the human eye, hence we reshape it to a <b>28 x 28 2D array</b>. We then pass the value in the y_train matrix which contains the label, i.e. the number. \n",
    "\n",
    "If we pass an argument which says that the dataset to be used is the test dataset, we bypass the if condition and the else condition is called. What happens within the else block is similar to the if block. \n",
    "\n",
    "All we have done so far is to reshape the <b>1D array of 784 elements</b> to a <b>2D array of dimensions 28 x 28</b> and assign the label value to the variable label. We then plot it. You may look above to see how it works. This function may prove useful later on if/when we need to verify the predictions made by the model."
   ]
  },
  {
   "cell_type": "markdown",
   "id": "639d4afb-bd70-46b8-ad70-9ad600f0a146",
   "metadata": {},
   "source": [
    "---"
   ]
  },
  {
   "cell_type": "markdown",
   "id": "8d1df0a2-5d3d-4890-810e-76719fe4947e",
   "metadata": {},
   "source": [
    "Given below are a few tests done to see if all is well and good."
   ]
  },
  {
   "cell_type": "markdown",
   "id": "8e7b7b28-b216-4cc7-872f-78261a44d7ca",
   "metadata": {},
   "source": [
    "#### 1. Label Check"
   ]
  },
  {
   "cell_type": "code",
   "execution_count": 44,
   "id": "bbba3295-df4f-481f-999b-b0137941e8cc",
   "metadata": {},
   "outputs": [
    {
     "data": {
      "image/png": "[encoded data removed]",
      "text/plain": [
       "<Figure size 640x480 with 1 Axes>"
      ]
     },
     "metadata": {},
     "output_type": "display_data"
    },
    {
     "name": "stdout",
     "output_type": "stream",
     "text": [
      "Expected Label: 6.0\n"
     ]
    },
    {
     "data": {
      "image/png": "[encoded data removed]",
      "text/plain": [
       "<Figure size 640x480 with 1 Axes>"
      ]
     },
     "metadata": {},
     "output_type": "display_data"
    },
    {
     "name": "stdout",
     "output_type": "stream",
     "text": [
      "Expected Label: 6.0\n"
     ]
    },
    {
     "data": {
      "image/png": "[encoded data removed]",
      "text/plain": [
       "<Figure size 640x480 with 1 Axes>"
      ]
     },
     "metadata": {},
     "output_type": "display_data"
    },
    {
     "name": "stdout",
     "output_type": "stream",
     "text": [
      "Expected Label: 3.0\n"
     ]
    },
    {
     "data": {
      "image/png": "[encoded data removed]",
      "text/plain": [
       "<Figure size 640x480 with 1 Axes>"
      ]
     },
     "metadata": {},
     "output_type": "display_data"
    },
    {
     "name": "stdout",
     "output_type": "stream",
     "text": [
      "Expected Label: 0.0\n"
     ]
    }
   ],
   "source": [
    "# Pick a few indices randomly\n",
    "for i in [0, 10, 42, 99]:\n",
    "    show_image(i, dataset='train')\n",
    "    print(\"Expected Label:\", y_train[i])\n"
   ]
  },
  {
   "cell_type": "markdown",
   "id": "27c60b51-b9fc-4942-9386-511604aadee0",
   "metadata": {},
   "source": [
    "We establish with sufficient confidence that the label matches with the digit shown in the image. "
   ]
  },
  {
   "cell_type": "markdown",
   "id": "9cec7801-2bc3-41b1-8945-cae20fef11a9",
   "metadata": {},
   "source": [
    "#### 2. Sanity Check"
   ]
  },
  {
   "cell_type": "markdown",
   "id": "b332e564-e507-4849-b9d3-a07aa1ca9da8",
   "metadata": {},
   "source": [
    "A simple sanity test to see if the normalization worked has been performed. "
   ]
  },
  {
   "cell_type": "code",
   "execution_count": 48,
   "id": "2871ef43-091d-4401-acdd-42434caca8b9",
   "metadata": {},
   "outputs": [
    {
     "data": {
      "image/png": "[encoded data removed]",
      "text/plain": [
       "<Figure size 640x480 with 1 Axes>"
      ]
     },
     "metadata": {},
     "output_type": "display_data"
    }
   ],
   "source": [
    "plt.hist(x_train.flatten(), bins=50, color='gray')\n",
    "plt.title(\"Pixel Value Distribution (Training Set)\")\n",
    "plt.xlabel(\"Pixel Intensity\")\n",
    "plt.ylabel(\"Frequency\")\n",
    "plt.show()"
   ]
  },
  {
   "cell_type": "markdown",
   "id": "5b63383d-91b3-4adb-8caa-98fe6e9953cb",
   "metadata": {},
   "source": [
    "It is evident from the histogram that the pixel intensity values lie between the minimum value 0 and the maximum value 1. Thus, we can establish with sufficient confidence that the normalization has indeed worked properly.\n",
    "\n",
    "A test for normalization has been done previously when we called from the maximum and minimum for the x dataset."
   ]
  },
  {
   "cell_type": "markdown",
   "id": "18c03d4c-5efd-48dd-9b24-8fa5c4c44335",
   "metadata": {},
   "source": [
    "---"
   ]
  },
  {
   "cell_type": "markdown",
   "id": "bff0d046-ce5c-4a91-bd55-0ced783c356e",
   "metadata": {},
   "source": [
    "### One-Hot Encoding the Labels"
   ]
  },
  {
   "cell_type": "markdown",
   "id": "76ac8423-0cf1-4c5c-af57-bbb123d4d451",
   "metadata": {},
   "source": [
    "<b>Why One-Hot Encoding?\n",
    "\n",
    "When training a neural network, we want the output to match your target. But the labels  3, 7, 0 etc. are simply integers. In a neural network, the output of the model is a vector and thus we want our targets to be vectors as well.\n",
    "\n",
    "The expected output of a model would be:   \n",
    "[0.05, 0.01, ..., 0.92, ..., 0.03] ← Model’s prediction (probability-like)\n",
    "\n",
    "What we need our target to be is:  \n",
    "[0, 0, 0, 0, 0, 0, 0, 1, 0, 0] ← If the digit is a 7\n",
    "\n",
    "We can see that the 7th element is 1 in the above array. This indicates the class 7. That is what one-hot encoding does for us. A way to say 'this is class 7' in a manner compatible with the model's output layer (layer of the neural network making the prediction)."
   ]
  },
  {
   "cell_type": "markdown",
   "id": "a5fe273e-f23a-424e-ad4a-d5f6e762a5c6",
   "metadata": {},
   "source": [
    "---"
   ]
  },
  {
   "cell_type": "code",
   "execution_count": 54,
   "id": "0ab9f6f1-5724-43b6-8249-1f8f6ba421db",
   "metadata": {},
   "outputs": [],
   "source": [
    "def one_hot_encode(y, num_classes=10):\n",
    "    one_hot = np.zeros((len(y), num_classes))   #creates an array with 10 columns and as many rows as there are labels\n",
    "    for i, val in enumerate(y):\n",
    "        one_hot[i, int(val)] = 1\n",
    "    return one_hot"
   ]
  },
  {
   "cell_type": "markdown",
   "id": "5685f563-2777-4857-b955-debde8798cd7",
   "metadata": {},
   "source": [
    "---"
   ]
  },
  {
   "cell_type": "markdown",
   "id": "a88224cf-ca8a-4a27-9b94-3753811b9b67",
   "metadata": {},
   "source": [
    "Algorithm followed above:  \n",
    "\n",
    "1. Create a function that takes the array of labels y and assumes there are 10 classes.\n",
    "2. Create an array that has as many rows as there are labels and 10 columns. If we take the y_train dataset, we will get an array of shape      (6000, 10).\n",
    "3. We loop through each label in y, keeping track of the index i and the label val itself.\n",
    "4. Now, we go to row i and set column val to 1.\n",
    "    - eg: if i = 0 and val = 3, we can know that the zeroth row, the label is 3 and therefore the element at index 3 would be equal to 1.  \n",
    "      [0, 0, 0, 1, 0, 0, 0, 0, 0, 0] <- array corresponding to label 3\n",
    "\n",
    "We then apply it to y_test and y_train.\n",
    "\n",
    "Note: we have cast val as int above. This was done because the index must be an integer and apparently, val was not."
   ]
  },
  {
   "cell_type": "markdown",
   "id": "32bf9beb-1ff0-43e5-8908-dcd5d76df80f",
   "metadata": {},
   "source": [
    "---"
   ]
  },
  {
   "cell_type": "code",
   "execution_count": 58,
   "id": "93caf539-25b0-42dd-9a52-e8f9bcecdd42",
   "metadata": {},
   "outputs": [],
   "source": [
    "#one hot encoding\n",
    "y_train_encoded = one_hot_encode(y_train)\n",
    "y_test_encoded = one_hot_encode(y_test)"
   ]
  },
  {
   "cell_type": "code",
   "execution_count": 59,
   "id": "7ddc3971-93fd-4f4d-93b5-805f8bbed89f",
   "metadata": {},
   "outputs": [
    {
     "name": "stdout",
     "output_type": "stream",
     "text": [
      "Label: 6.0\n",
      "Label of the encoded array: [0. 0. 0. 0. 0. 0. 1. 0. 0. 0.]\n"
     ]
    }
   ],
   "source": [
    "#Sanity Check for the one-hot encoding\n",
    "print(f'Label: {y_train[0]}')\n",
    "print(f'Label of the encoded array: {y_train_encoded[0]}')"
   ]
  },
  {
   "cell_type": "markdown",
   "id": "b2d0cbff-c2c5-44e7-90ae-0bd5f26da5ba",
   "metadata": {},
   "source": [
    "---"
   ]
  },
  {
   "cell_type": "markdown",
   "id": "a5c9f060-3340-4b82-9e76-44d58a3b388a",
   "metadata": {},
   "source": [
    "### Inititalizing Weights and Biases\n",
    "\n",
    "Let us first begin with the sizing of the layers:\n",
    "\n",
    "1. Input layer : 784 units (28x28 pixels)\n",
    "2. Hidden layer : 64 units (arbitrary reasonable choice)\n",
    "3. Output layer : 10 units (0 to 9)\n",
    "\n",
    "The obvious question here is why there are 64 units in the hidden layer. It is completely arbitrary. We choose a small enough number to train quickly but big enough to learn useful features.\n",
    "\n",
    "Factors that influence the choice\n",
    "- Input size: We have 784 inputs, so 32-128 units is a common range.\n",
    "- Output size: We need to map to 10 classes. So the hidden layer must be capable of extracting patterns in order to differentiate between      them.\n",
    "- Computing capability and speed: More neurons mean slower training. We do not want that to happen when we are testing and experimenting. So   we start low.\n",
    "- Overfitting risk: More units mean more parameters and as a result more chances to overfit.\n",
    "\n",
    "In short, there are a whole lot of factors that influence the size of the hidden layer. <i>So how do we predict how many units to use?</i> The answer is, <i>we do not</i>. In the real world, we try out different numbers and we pick the one which gives us the best result."
   ]
  },
  {
   "cell_type": "markdown",
   "id": "4bba47cc-b38b-4092-82cb-5dacf4f8af73",
   "metadata": {},
   "source": [
    "---"
   ]
  },
  {
   "cell_type": "code",
   "execution_count": 63,
   "id": "3618b4fa-1d58-4723-8e20-9d39cd40120f",
   "metadata": {},
   "outputs": [],
   "source": [
    "#layer sizes\n",
    "input_size = 784\n",
    "hidden_size = 64\n",
    "output_size = 10\n",
    "\n",
    "#seed for reproducability\n",
    "np.random.seed(42)\n",
    "\n",
    "#initializing weights and biases\n",
    "w1 = np.random.randn(hidden_size, input_size) * 0.01\n",
    "b1 = np.zeros((hidden_size, 1))\n",
    "\n",
    "w2 = np.random.randn(output_size, hidden_size) * 0.01\n",
    "b2 = np.zeros((output_size, 1))"
   ]
  },
  {
   "cell_type": "markdown",
   "id": "9af49d27-ede6-494d-8bd0-38a10a471d89",
   "metadata": {},
   "source": [
    "---"
   ]
  },
  {
   "cell_type": "markdown",
   "id": "c6c9ae88-67b1-4c9f-a751-f89b7066d71f",
   "metadata": {},
   "source": [
    "#### Why do we use the seed again?\n",
    "\n",
    "We do not want a different order of random numbers every single time. If that happens, there wouldn't be any learning happening. It would just end in chaos. We need reproducability because what we are doing is experimental.\n",
    "\n",
    "### Weights\n",
    "\n",
    "Weights tell the neural network which pixels are more important. In a general sense, it tells the network how stongly to consider each input. For each input, there will be an assigned weight. We take the weighted sum which gets passed into the activation function. We multiply it by 0.01 in order to keep the weights small. If we initialize without scaling, the input of the activation function may be large and this will cause the vanishing gradient problem. For example, say you initialize it without scaling, some weight might be some large value like 5 or -6. If we compute the weighted sum using these weights, we might get a large value, say +/-1000. If this goes into the sigmoid function, it will give out either 0 or 1.\n",
    "\n",
    "$$\n",
    "sigmoid(-1000) \\approx 0\n",
    "$$                                                       \n",
    "$$\n",
    "sigmoid(+1000) \\approx 1\n",
    "$$\n",
    "If the weighted sum is zero, the gradient becomes zero and the learning stops. \n",
    "\n",
    "Without weights, the neural network would simply be averaging all the inputs. The weights give them the <i>intelligence</i>.\n",
    "\n",
    "\n",
    "#### What are we actually doing during training?\n",
    "\n",
    "1. Start with random weights\n",
    "   * We don't know which pixels (inputs) are important, so we make a guess.\n",
    "2. Make predictions using these weights\n",
    "   * Inputs and weights to give output\n",
    "3. Compare prediction to the true value (Loss function)\n",
    "   * If prediction is wrong, the loss would be high\n",
    "   * It tells us how bad our current weights are\n",
    "4. Adjust weights to minimise the loss (back propagation and gradient descent)\n",
    "   * Figure out which weights caused the mistake and how they must change\n",
    "   * Update weights to make better predictions\n",
    "\n",
    "In short, training the model is finding the best possible weights. \n",
    "\n",
    "#### Why is the dimension of the weights matrix 64 x 784?\n",
    "\n",
    "Each neuron in the layer takes all the inputs and applies its own set of weights. So, each neuron has a row vector of weights (1 x input_size). Now, we have such row vectors for every neuron. If we stack the row vectors for each matrix, we get hidden_size rows and input_size columns. Thus we have a matrix of dimension 64 x 784. "
   ]
  },
  {
   "cell_type": "markdown",
   "id": "4b11459c-c4ad-414c-9960-a8aa71895c87",
   "metadata": {},
   "source": [
    "---"
   ]
  },
  {
   "cell_type": "markdown",
   "id": "14526764-04f0-4ee0-b6a3-43a191ac4ada",
   "metadata": {},
   "source": [
    "### Forward Propagation"
   ]
  },
  {
   "cell_type": "markdown",
   "id": "70caf4ab-74b6-45fa-9320-1df26763dcc6",
   "metadata": {},
   "source": [
    "This step takes the flattened image (input) and passes it through a hidden layer where we:\n",
    "- apply weights and biases\n",
    "- ReLU activation\n",
    "\n",
    "Then we pass it through an output layer where we:\n",
    "- apply weights and biases again\n",
    "- softmax activation to output probabilities\n",
    "\n"
   ]
  },
  {
   "cell_type": "markdown",
   "id": "fbb2c7dc-93ff-4c13-ac46-28d8285e6378",
   "metadata": {},
   "source": [
    "---"
   ]
  },
  {
   "cell_type": "code",
   "execution_count": 70,
   "id": "d7ce6b42-fbef-43c2-bc63-bc045565f49a",
   "metadata": {},
   "outputs": [],
   "source": [
    "def relu(z):\n",
    "    return np.maximum(0, z)\n",
    "\n",
    "def softmax(z):\n",
    "    exp_z = np.exp(z-np.max(z)) #stability test\n",
    "    return exp_z / np.sum(exp_z, axis = 0, keepdims = True) \n",
    "\n",
    "\n",
    "def forward_prop(x1, w1, w2, b1, b2):\n",
    "    #Hidden Layer\n",
    "    z1 = np.dot(w1, x1) + b1\n",
    "    a1 = relu(z1)\n",
    "\n",
    "    #Output Layer\n",
    "    z2 = np.dot(w2, a1) + b2\n",
    "    a2 = softmax(z2)\n",
    "    #print(a2.shape)\n",
    "    return z1, a1, z2, a2"
   ]
  },
  {
   "cell_type": "markdown",
   "id": "e0c073d0-c702-4d0e-82e8-f0f8fa52e005",
   "metadata": {},
   "source": [
    "---"
   ]
  },
  {
   "cell_type": "code",
   "execution_count": 72,
   "id": "3bcb0823-b7ce-4db3-a36d-5eb3cba8021b",
   "metadata": {},
   "outputs": [
    {
     "name": "stdout",
     "output_type": "stream",
     "text": [
      "Predicted: 0\n",
      "6.0\n"
     ]
    }
   ],
   "source": [
    "# Pick a sample image\n",
    "x_sample = x_train[0].reshape(-1, 1)  # shape: (784, 1)\n",
    "\n",
    "# Run forward pass\n",
    "z1, a1, z2, output_probs = forward_prop(x_sample, w1, w2, b1, b2)\n",
    "\n",
    "# Get predicted digit\n",
    "predicted_digit = np.argmax(output_probs)\n",
    "print(\"Predicted:\", predicted_digit)\n",
    "print(y_train[0])\n"
   ]
  },
  {
   "cell_type": "code",
   "execution_count": 73,
   "id": "4890fa58-fdaa-4a97-a01d-b892e69a8e3b",
   "metadata": {},
   "outputs": [
    {
     "name": "stdout",
     "output_type": "stream",
     "text": [
      "Image 0 → Prediction: 5, Actual: 7.0\n",
      "Image 1 → Prediction: 9, Actual: 5.0\n",
      "Image 2 → Prediction: 9, Actual: 4.0\n",
      "Image 3 → Prediction: 5, Actual: 9.0\n",
      "Image 4 → Prediction: 9, Actual: 6.0\n",
      "Image 5 → Prediction: 9, Actual: 7.0\n",
      "Image 6 → Prediction: 9, Actual: 8.0\n",
      "Image 7 → Prediction: 5, Actual: 2.0\n",
      "Image 8 → Prediction: 9, Actual: 4.0\n",
      "Image 9 → Prediction: 5, Actual: 3.0\n",
      "Accuracy on first 10 samples: 0 / 10\n"
     ]
    }
   ],
   "source": [
    "correct = 0\n",
    "\n",
    "for i in range(10):\n",
    "    x_i = x_test[i].reshape(784, 1)\n",
    "    y_i = y_test[i]\n",
    "\n",
    "    z1, a1, z2, predickshun = forward_prop(x_i, w1, w2, b1, b2)\n",
    "\n",
    "    pred = np.argmax(predickshun)\n",
    "\n",
    "    print(f\"Image {i} → Prediction: {pred}, Actual: {y_i}\")\n",
    "    if pred == y_i:\n",
    "        correct += 1\n",
    "\n",
    "print(\"Accuracy on first 10 samples:\", correct, \"/ 10\")\n"
   ]
  },
  {
   "cell_type": "markdown",
   "id": "c3c7dfde-3adf-4494-873d-dc183af4c420",
   "metadata": {},
   "source": [
    "---"
   ]
  },
  {
   "cell_type": "markdown",
   "id": "e369208e-22ac-427d-865d-10c457fd9bab",
   "metadata": {},
   "source": [
    "Given above are two code blocks which use the forward propagation alone to predict the samples. It is giving the wrong answer, as it should because the weights are random, and the network hasn't been <i>trained</i> yet. It has no idea how to map inputs to correct outputs. So, at this point the network is simply <i>guessing</i>.\n",
    "\n",
    "\n",
    "### ReLU (Rectified Linear Unit)\n",
    "\n",
    "ReLU is sort of like a gate which looks at the input value and gives out either the input if the input is greater than zero, or zero if the input is negative.\n",
    "\n",
    "$$\n",
    "\\text{ReLU}(z) = \\max(0, z)\n",
    "$$\n",
    "$$\n",
    "if\\: z <  0,\\: then\\: \\text{ReLU}(z) = 0\n",
    "$$\n",
    "$$\n",
    "if\\: z \\geq 0,\\: then\\:  \\text{ReLU}(z) = z\n",
    "$$\n",
    "\n",
    "#### Why is it used?\n",
    "\n",
    "- Fast to compute: no exponents or arithmetic involved\n",
    "- Avoids vanishing gradients: does not squash large values like the sigmoid or tanh function\n",
    "- Sparse activation: sets most of the inputs to zero, i.e. those that are negative.\n",
    "\n",
    "Negative inputs basically tell us that the pattern we are looking for does not exist in that input. So, we can safely <i>turn off</i> that neuron for that input. This selective activation encourages sparsity, which improves learning efficiency and decreases overfitting. The other neurons will respond to other parts of the circuit as per usual. In this manner, ReLU allows for the network to focus on what is important or what <i>matters most</i> for the given input while still covering the full range of features across all neurons.\n",
    "\n",
    "### Softmax\n",
    "\n",
    "Given a vector of scores: $ {z} = [z_1, z_2, \\dots, z_K] $ for $ K $ classes, Softmax is defined as:\n",
    "\n",
    "$$\n",
    "\\text{Softmax}(z_i) = \\frac{e^{z_i}}{\\sum_{j=1}^{K} e^{z_j}}\n",
    "$$\n",
    "\n",
    "for each $( i = 1, 2, \\dots, K )$.\n",
    "\n",
    "Softmax takes the values given to it and churns out a probability distribution. The output:\n",
    "- lies between 0 and 1\n",
    "- sums to 1\n",
    "- can be interpreted as a probability for each class\n",
    "\n",
    "#### What is happening here?\n",
    "\n",
    "When you exponentiate the scores, it magnifies the differences (larger values dominate). Now, when you divide the whole thing by the sum of the exponentials, you normalize it and as a result the outputs add up to 1. In this manner, the softmax converts the raw output of the model (logit) into a form that is interpretable and also show us how confident the model is. A way of imagining this would be that the output would be like the model is saying, <i>\"I am 80% sure that this number is 4, but it could also be 7.\"</i>\n",
    "\n",
    "\n",
    "\n",
    "                                                       "
   ]
  },
  {
   "cell_type": "markdown",
   "id": "9d49dd29-f16d-43aa-9d26-d543eada2d2a",
   "metadata": {},
   "source": [
    "---"
   ]
  },
  {
   "cell_type": "markdown",
   "id": "6c112e7b-d863-48ea-8177-f5475c865947",
   "metadata": {},
   "source": [
    "### Cross-Entropy Loss Function\n",
    "\n",
    "At its core, the cross-entropy loss function measures the difference between two probability distributions: the predicted distribution from the model and the actual distribution often seen as the one-hot encoded vector. Intuitively, the cross-entropy loss quantifies how surprised the model is by the prediction. If the loss is small, then the prediction is actually quite close to the true value. If the loss is high however, the prediction is very far from the true value. \n",
    "\n",
    "The cross-entropy loss function is given as:\n",
    "\n",
    "$$\n",
    "\\text{Loss} = - \\sum_i y_i \\log(\\hat{y}_i)\n",
    "$$\n",
    "\n",
    "here $y_i$ is the true label (1 for the correct class and 0 for others) and $\\hat{y}_i$ is the model's predicted probability for class $i$. Since only one class has $y_i = 1$, the equation simplifies to  $-  \\log(\\hat{y}_{correct\\: class})$\n",
    "\n",
    "This particular method is especially useful when used in association with softmax.\n"
   ]
  },
  {
   "cell_type": "markdown",
   "id": "c443320d-61d1-4420-aa7e-2b1b519788a8",
   "metadata": {},
   "source": [
    "---"
   ]
  },
  {
   "cell_type": "code",
   "execution_count": 79,
   "id": "9e644093-40b8-4276-8ccc-20f847f01cc9",
   "metadata": {},
   "outputs": [],
   "source": [
    "def cross_entropy_loss(y_pred, y_true):\n",
    "    m = y_true.shape[1]\n",
    "    epsilon = 1e-9\n",
    "    return -np.sum(y_true * np.log(y_pred + epsilon)) / m"
   ]
  },
  {
   "cell_type": "code",
   "execution_count": 80,
   "id": "9e3a33d4-a894-42c9-a6b0-fdadd9cf1380",
   "metadata": {},
   "outputs": [
    {
     "name": "stdout",
     "output_type": "stream",
     "text": [
      "Loss = 2.3081151848866805\n"
     ]
    }
   ],
   "source": [
    "i=0\n",
    "y_true = y_train_encoded[[i], :]\n",
    "loss = cross_entropy_loss(output_probs, y_true.T) #y_true has shape (1,10) and we need (10,1)\n",
    "print(f'Loss = {loss}')"
   ]
  },
  {
   "cell_type": "markdown",
   "id": "7a37f80f-2034-41be-b265-1a4f110e19cc",
   "metadata": {},
   "source": [
    "---"
   ]
  },
  {
   "cell_type": "markdown",
   "id": "c2d39f97-b691-43a2-a94e-bb35d88c126e",
   "metadata": {},
   "source": [
    "### What is the code doing?\n",
    "\n",
    "To get the predicted values, I used the output from the previous section of the code where we did the forward propagation. The real value was obtained from the one-hot encoded data that was prepared previously. Using these, we calculated the loss function. \n",
    "The label vector was shaped as a row vector and therefore we applied a transpose on it."
   ]
  },
  {
   "cell_type": "markdown",
   "id": "f9bd9511-d11c-4b3a-8692-ee802bb25c00",
   "metadata": {},
   "source": [
    "---"
   ]
  },
  {
   "cell_type": "markdown",
   "id": "6bdcb8e0-0530-4db2-b5d2-26fb77b47918",
   "metadata": {},
   "source": [
    "I am going to take a minute to list out all the symbols and variables listed out:\n",
    "\n",
    "- x               : input                                    : (10000, 784)\n",
    "- x_train         : split for training                       : (6000, 784)\n",
    "- x_test          : split for testing                        : (4000, 784)\n",
    "- y               : label matrix                             : (10000,1)\n",
    "- y_train_encoded : one-hot encoded matrix for train dataset : (6000, 784)\n",
    "- y_test_encoded  : one-hot encoded matrix for test dataset  : (4000, 784)\n",
    "- w1              : weights from input to hidden             : (64, 784)\n",
    "- b1              : bias from input to hidden                : (64, 1)\n",
    "- z1              : pre-activation for hidden                : (64, 1)\n",
    "- a1              : output from hidden layer                 : (64, 1)\n",
    "- z2              : pre-activation for output before softmax : (10, 1)\n",
    "- w2              : weights from hidden to output layer      : (10, 64)\n",
    "- b2              : bias from hidden to output layer         : (10, 1)\n",
    "- a2              : output after softmax                     : (10, 1)\n"
   ]
  },
  {
   "cell_type": "markdown",
   "id": "1b0447d9-10a1-465f-beb2-be44fc4217e5",
   "metadata": {},
   "source": [
    "---"
   ]
  },
  {
   "cell_type": "markdown",
   "id": "818bd83e-dc20-43d9-a733-83b8920d98dd",
   "metadata": {},
   "source": [
    "### Backpropagation"
   ]
  },
  {
   "cell_type": "markdown",
   "id": "1660f40a-d29e-4b3b-b590-681eeddb60a0",
   "metadata": {},
   "source": [
    "#### Compute Loss Derivative w.r.t Softmax Output (Output Layer)\n",
    "\n",
    "Backpropagation is an algorithm used to calculate the gradients of the loss function with respect to all weights and biases of the network. We do this in order to figure out which direction to nudge our weights in order to minimize the loss function. These gradients are then used to update the weights by <b>gradient descent.</b>\n",
    "\n",
    "We remember that the loss function is:\n",
    "$$\n",
    "\\text{Loss} = - \\sum_i y_i \\log(\\hat{y}_i)\n",
    "$$\n",
    "\n",
    "The derivative of this loss function is:\n",
    "$$\n",
    "\\frac{\\partial L}{\\partial z_2} = a_2 - y\n",
    "$$\n",
    "\n",
    "This gradient tells use how much changing values in $z_2$ will affect the loss. In the next step, we look towards the gradients with respect to the weights and biases from the hidden layer to the output layer. \n",
    "\n",
    "#### Backprop to $W_2$ and $b_2$\n",
    "\n",
    "$$\n",
    "\\frac{\\partial L}{\\partial w_2} = \\frac{\\partial L}{\\partial z_2} \\cdot \\frac{\\partial z_2}{\\partial w_2}\n",
    "$$\n",
    "\n",
    "Since $z_2 = w_2a_1$, we can say that $\\frac{\\partial z_2}{\\partial w_2} = {a_1}^T$\n",
    "\n",
    "Therefore, \n",
    "\n",
    "$$\n",
    "\\frac{\\partial L}{\\partial w_2} = (a_2 - y) \\cdot {a_1}^T\n",
    "$$\n",
    "\n",
    "Next, the gradient with respect to bias is,\n",
    "\n",
    "$$\n",
    "\\frac{\\partial L}{\\partial b_2}=\\frac{\\partial L}{\\partial z_2} = a_2 - y\n",
    "$$\n",
    "\n",
    "To summarize,\n",
    "$$\n",
    "\\frac{\\partial L}{\\partial w_2} = (a_2 - y) \\cdot {a_1}^T\n",
    "$$\n",
    "$$\n",
    "\\frac{\\partial L}{\\partial b_2} = a_2 - y\n",
    "$$\n",
    "\n",
    "Training a neural network is teaching it how to connect inputs to outputs by adjusting the weights and biases. The weights between the hidden layer and the output layer $(w_2)$ is responsible for mapping the hidden layer activations to the final layer predictions. The difference between what the model predicted and what the correct label was that is, $(a_2 - y)$ represents the error at each output neuron. A larger error means that the contribution of that specific neuron was more incorrect, therefore the weights leading to it needs adjustment more significantly. But not all hidden neurons contributed equally to the error: some were more active than the others. If a hidden neuron was more active (its output in $a_1$ must be large), it played a bigger role in generating the incorrect prediction, so the update to the weights connected must be larger. So, the adjustment to each weight is determined by both the error <i>(how wrong the prediction was)</i> and its activation <i>(how strongly the hidden neuron contributed to that prediction).</i> As you can see above, the weight update formula is essentially an outer product of these two factors, enabling us to tweak each connection based on how much involved it was in the mistake.\n",
    "\n",
    "#### Backpropagation through ReLU to Hidden Layer\n",
    "\n",
    "We will now compute the gradient of the loss with the weights and biases from the first layer ($w_1\\:and\\:b_1$), so that we can update them to make the network learn better.\n",
    "\n",
    "We'll apply the chain rule to find \n",
    "\n",
    "$$\n",
    "\\frac{\\partial L}{\\partial w_1}\n",
    "$$\n",
    "\n",
    "In order to do that we need to find \n",
    "\n",
    "$$\n",
    "\\frac{\\partial L}{\\partial z_1}\n",
    "$$\n",
    "\n",
    "We have,\n",
    "$$ \n",
    "z_1 = w_1x + b_1\n",
    "$$\n",
    "\n",
    "$$\n",
    "a_1 = ReLU(z_1)\n",
    "$$\n",
    "\n",
    "$$\n",
    "a_2 = softmax(w_2a_1 + b_2)\n",
    "$$\n",
    "\n",
    "To get to $\\frac{\\partial L}{\\partial z_1}$, we use,\n",
    "\n",
    "$$\n",
    "\\frac{\\partial L}{\\partial z_1} = ({w_2}^T \\cdot {\\frac{\\partial L}{\\partial z_2}})\\circ {ReLU'(z_1)}\n",
    "$$\n",
    "<n>\n",
    "1. $({w_2}^T \\cdot {\\frac{\\partial L}{\\partial z_2}})$\n",
    "   \n",
    "   - This term pushes the output layer back into the hidden layer\n",
    "   - It is like asking how much did each unit contribute to the final error\n",
    "   - Shape: $w_2$ has the shape $10\\times64$. Then its transpose will have shape $64\\times10$. With it we are multiplying a $10\\times1$    vector. So the result is a $64\\times1$ vector.\n",
    "\n",
    "2. $ {ReLU'(z_1)}$\n",
    "\n",
    "    - This is the derivative of $ReLU$ - it is 1 when $z_1 > 0$ and 0 elsewhere.\n",
    "    - So we multiply elementwise with the above result\n",
    "    - This is why $ReLU$ helps with sparse gradients. Only those neurons that gave out positive input during forward pass gets updated.\n",
    "\n",
    "3.  Final result\n",
    "\n",
    "$$\n",
    "\\frac{\\partial L}{\\partial z_1} = a\\: vector\\: of\\: shape\\: (64,1)\n",
    "$$\n",
    "\n",
    "The weight gradient therefore is,\n",
    "\n",
    "$$\n",
    "\\frac{\\partial L}{\\partial w_1} = \\frac{\\partial L}{\\partial z_1} \\cdot {x^T}\n",
    "$$\n",
    "\n",
    "This is a vector of shape $64\\times784$.\n",
    "\n",
    "For bias,\n",
    "$$\n",
    "\\frac{\\partial L}{\\partial b_1} = \\frac{\\partial L}{\\partial z_1}\n",
    "$$\n",
    "\n",
    "This is a vector of shape $64\\times1$"
   ]
  },
  {
   "cell_type": "markdown",
   "id": "a6b770d2-2060-4741-84cf-199e1782e5c3",
   "metadata": {},
   "source": [
    "---"
   ]
  },
  {
   "cell_type": "code",
   "execution_count": 90,
   "id": "40cf00ed-edeb-4956-bac2-48b4ee64dc48",
   "metadata": {},
   "outputs": [],
   "source": [
    "def relu_derivative(z):\n",
    "    return (z > 0).astype(float)"
   ]
  },
  {
   "cell_type": "markdown",
   "id": "4b637882-28f7-453b-a0fc-f0b7c4381e09",
   "metadata": {},
   "source": [
    "---"
   ]
  },
  {
   "cell_type": "markdown",
   "id": "04fa03e0-87e6-4635-9119-8e0ac1429a31",
   "metadata": {},
   "source": [
    "The derivative of $ReLU$ has been dealt with already so we need not go into that again.\n",
    "\n",
    "---"
   ]
  },
  {
   "cell_type": "code",
   "execution_count": 93,
   "id": "47151f32-5838-45b4-9991-c3be3fc9d076",
   "metadata": {},
   "outputs": [],
   "source": [
    "#backward propagation and parameter updation for one training example\n",
    "def train_one_sample(x, y_true, w1, w2, b1, b2, lr):\n",
    "    #forward propagation\n",
    "    z1, a1, z2, a2 = forward_prop(x, w1, w2, b1, b2) #unpacking\n",
    "\n",
    "    #calculating loss\n",
    "    loss = cross_entropy_loss(a2, y_true)\n",
    "    #print(f'Loss = {loss:.4f}')\n",
    "\n",
    "    #backward pass\n",
    "    delta2 = a2 - y_true    #output error\n",
    "    dw2 = delta2 @ a1.T\n",
    "    db2 = delta2\n",
    "\n",
    "    delta1 = (w2.T @ delta2) * relu_derivative(z1)\n",
    "    dw1 = delta1 @ x.T\n",
    "    db1 = delta1\n",
    "\n",
    "    #update parameters\n",
    "    w2 -= lr * dw2\n",
    "    b2 -= lr * db2\n",
    "    w1 -= lr * dw1\n",
    "    b1 -= lr * db1\n",
    "\n",
    "    return loss"
   ]
  },
  {
   "cell_type": "markdown",
   "id": "cbc53852-4f29-415e-a111-515ef4c3c306",
   "metadata": {},
   "source": [
    "---\n",
    "\n",
    "Now, in the above code block we have defined a function which updates the weights and biases by performing forward propagation, calculating loss and then doing backward propagation. This is what training on a single sample looks like.\n",
    "\n",
    "We pass in x which is a column vector $(784 \\times 1)$ and its correct label y_true $(10 \\times 1)$ which is the one hot vector. We are updating the parameters $w_1,\\: w_2,\\: b_1,\\: $and$\\:b_2$ using backpropagation and gradient descent.\n",
    "\n",
    "Everything else is pretty straightforward and all the math done has been discussed above.\n",
    "\n",
    "---"
   ]
  },
  {
   "cell_type": "markdown",
   "id": "fb001df6-c781-46c1-a2bb-4fd0a44a8bec",
   "metadata": {},
   "source": [
    "Sample usage of the function train_one_sample. "
   ]
  },
  {
   "cell_type": "code",
   "execution_count": 95,
   "id": "6559d1e9-753c-4e89-a208-a9ef6f0142e6",
   "metadata": {},
   "outputs": [
    {
     "data": {
      "text/plain": [
       "'\\n#sample usage\\ni = 0\\nx = x_train[i].reshape(-1,1)\\ny_true = y_train_encoded[[i], :].T\\n\\nloss = train_one_sample(x, y_true, w1, w2, b1, b2, lr = 0.01)\\n'"
      ]
     },
     "execution_count": 95,
     "metadata": {},
     "output_type": "execute_result"
    }
   ],
   "source": [
    "'''\n",
    "#sample usage\n",
    "i = 0\n",
    "x = x_train[i].reshape(-1,1)\n",
    "y_true = y_train_encoded[[i], :].T\n",
    "\n",
    "loss = train_one_sample(x, y_true, w1, w2, b1, b2, lr = 0.01)\n",
    "'''"
   ]
  },
  {
   "cell_type": "markdown",
   "id": "fbde06f9-584d-4c33-a392-00925d7aee9c",
   "metadata": {},
   "source": [
    "---\n",
    "### Training"
   ]
  },
  {
   "cell_type": "markdown",
   "id": "def20d29-2266-4347-8048-976eced0ca54",
   "metadata": {},
   "source": [
    "The below function <b>compute_accuracy</b> is a function that checks how good the neural network is at classifying data accurately. We define a counter variable which is later updated inside the loop every time the prediction made matches with the corresponding label.\n",
    "The variable total is used to figure out how many images are there in the dataset. Now we go through the images one by one and check if the model predicts the correct digit.\n",
    "x_data is then reshaped. The command used x_data[i].reshape(-1, 1) converts the given array into a column vector. When we pick out x_data[i] we essentially take out a row from the 2D array, i.e. one single image. We then have to convert that array into a column vector which is what we are doing in this step. \n",
    "We then pick out the label for the $i^{th}$ sample and save it as y_true with the shape (1, 10)\n",
    "\n",
    "We perform forward propagation using the weights and biases provided to us after backpropagation. You might find that confusing as we are yet to perform backpropagation on the whole sample. This function is called later on after we are done training the whole dataset. It would be wise to remember that this function has a singular goal, which is to calculate the accuracy of our model and then return it.\n",
    "\n",
    "np.argmax() returns the index of the maximum value in an array. For np.argmax(output_prob) the value that it spits out would be the index of the maximum value in the array of probabilities. This value is then stored in the predicted_class. Then, same is done for y_true which is the one-hot encoded array which has all but one entry that is 1. The index of that element is the actual label of that image.\n",
    "\n",
    "Then these two values are compared, the prediction with the true value, and if they are equal the counter is incremented by 1.\n",
    "\n",
    "The accuracy would be calculated as the total number of correct predictions made in the whole of the dataset, i.e. ratio of number of correct predictions to total number of elements.\n",
    "\n",
    "---"
   ]
  },
  {
   "cell_type": "code",
   "execution_count": 98,
   "id": "4aadb932-7013-43da-b16e-ef98b0fc0c0a",
   "metadata": {},
   "outputs": [],
   "source": [
    "def compute_accuracy(x_data, y_data_encoded):\n",
    "    correct_predictions = 0  #counter\n",
    "    total = x_data.shape[0]\n",
    "\n",
    "    for i in range(total):\n",
    "        x_sample = x_data[i].reshape(-1, 1) #shape (784, 1)\n",
    "        y_true = y_data_encoded[[i], :] #shape (1, 10)\n",
    "\n",
    "        z1, a1, z2, output_prob = forward_prop(x_sample, w1, w2, b1, b2)\n",
    "        predicted_class = np.argmax(output_prob) #index of the largest probability value\n",
    "        actual_class = np.argmax(y_true)  #index of the largest value, 1\n",
    "\n",
    "        if predicted_class == actual_class:\n",
    "            correct_predictions +=1\n",
    "\n",
    "    accuracy = correct_predictions/total\n",
    "\n",
    "    return accuracy"
   ]
  },
  {
   "cell_type": "markdown",
   "id": "98ff76c3-5dfa-4f7e-a964-fe723dc747e9",
   "metadata": {},
   "source": [
    "---\n",
    "Now we go into the part where we train for the whole dataset. We initialize certain variables, let us first understand what they are.\n",
    "\n",
    "1. Epoch: One complete pass through the entire dataset. Here we do 20 such passes.\n",
    "2. Learning Rate: It decides how much the weights get updated during training in response to the estimated error. The lower the learning rate, the slower is the learning.\n",
    "\n",
    "Now we iterate through each epoch. We set the value of total loss to be zero. Now, in the first epoch, we go through each image. We reshape the image into a column vector and same for the encoded lables. We calculate the loss by calling the function train_one_sample. This function will perform forward propagation by calling the relevant function, calculate loss by calling the relevant function, and perform back propagation and update the values for the weights and biases for one image and after which it returns the loss. Since it is in a loop it will be called for every image and this process shall be repeated every single time. The loss we get from this step is added to the total_loss variable.\n",
    "\n",
    "We then calculate the average loss (total loss divided by the total number of elements), the accuracy (by calling the function compute_accuracy() which we have gone through already.\n",
    "\n",
    "loss_history and accuracy_histoy are two lists which stores the values for loss and accuracy for each epoch. We use both of these two plot graphs later on.\n",
    "\n",
    "---"
   ]
  },
  {
   "cell_type": "code",
   "execution_count": 100,
   "id": "126252e3-2871-4646-92ae-ecc111230fd1",
   "metadata": {},
   "outputs": [
    {
     "name": "stdout",
     "output_type": "stream",
     "text": [
      "Epoch 1: Average Loss = 0.756668110576115, Accuracy = 0.9068333333333334\n",
      "Epoch 2: Average Loss = 0.31191593859722094, Accuracy = 0.9323333333333333\n",
      "Epoch 3: Average Loss = 0.22492668273071692, Accuracy = 0.9506666666666667\n",
      "Epoch 4: Average Loss = 0.16568420229777037, Accuracy = 0.9621666666666666\n",
      "Epoch 5: Average Loss = 0.12256040225292625, Accuracy = 0.9731666666666666\n",
      "Epoch 6: Average Loss = 0.09011348357708938, Accuracy = 0.9803333333333333\n",
      "Epoch 7: Average Loss = 0.06670365506471283, Accuracy = 0.9843333333333333\n",
      "Epoch 8: Average Loss = 0.04935140602395018, Accuracy = 0.9875\n",
      "Epoch 9: Average Loss = 0.03619426615744786, Accuracy = 0.9911666666666666\n",
      "Epoch 10: Average Loss = 0.02741587186881214, Accuracy = 0.9938333333333333\n",
      "Epoch 11: Average Loss = 0.020368849610806324, Accuracy = 0.9955\n",
      "Epoch 12: Average Loss = 0.015600467006140081, Accuracy = 0.9961666666666666\n",
      "Epoch 13: Average Loss = 0.012126367577848242, Accuracy = 0.9978333333333333\n",
      "Epoch 14: Average Loss = 0.009688757169704423, Accuracy = 0.9983333333333333\n",
      "Epoch 15: Average Loss = 0.007863603728317046, Accuracy = 0.999\n",
      "Epoch 16: Average Loss = 0.006685365913605215, Accuracy = 0.999\n",
      "Epoch 17: Average Loss = 0.005812081460577487, Accuracy = 0.9993333333333333\n",
      "Epoch 18: Average Loss = 0.005152950785151939, Accuracy = 0.9995\n",
      "Epoch 19: Average Loss = 0.0046168910640068265, Accuracy = 0.9998333333333334\n",
      "Epoch 20: Average Loss = 0.004168009571686234, Accuracy = 1.0\n"
     ]
    }
   ],
   "source": [
    "epochs = 20\n",
    "learning_rate = 0.01\n",
    "loss_history = []\n",
    "accuracy_history = []\n",
    "for epoch in range(epochs):\n",
    "    total_loss = 0\n",
    "    for i in range(len(x_train)):\n",
    "        x = x_train[i].reshape(784, 1)\n",
    "        y_true = y_train_encoded[i].reshape(10, 1)\n",
    "\n",
    "        loss = train_one_sample(x, y_true, w1, w2, b1, b2, learning_rate)\n",
    "        total_loss += loss\n",
    "    avg_loss = total_loss / x_train.shape[0]\n",
    "    accu = compute_accuracy(x_train, y_train_encoded)\n",
    "    loss_history.append(avg_loss)\n",
    "    accuracy_history.append(accu)\n",
    "    print(f\"Epoch {epoch+1}: Average Loss = {avg_loss}, Accuracy = {accu}\")\n"
   ]
  },
  {
   "cell_type": "markdown",
   "id": "5cc80ffc-3d5a-4450-82b0-c7b1113c7195",
   "metadata": {},
   "source": [
    "### Visualization"
   ]
  },
  {
   "cell_type": "code",
   "execution_count": 102,
   "id": "0cd4e74e-58ba-4bde-81de-26f744e3f1e8",
   "metadata": {},
   "outputs": [
    {
     "data": {
      "image/png": "[encoded data removed]",
      "text/plain": [
       "<Figure size 1200x500 with 2 Axes>"
      ]
     },
     "metadata": {},
     "output_type": "display_data"
    }
   ],
   "source": [
    "#Visualization\n",
    "num_epoch = range(1, epochs+1)\n",
    "\n",
    "plt.figure(figsize = (12, 5))\n",
    "\n",
    "plt.subplot(1, 2, 1)\n",
    "plt.plot(num_epoch, loss_history, label = 'loss')\n",
    "plt.xlabel('Epoch')\n",
    "plt.ylabel('Loss')\n",
    "plt.title('Training Loss')\n",
    "plt.grid(True)\n",
    "\n",
    "plt.subplot(1, 2, 2)\n",
    "plt.plot(num_epoch, accuracy_history, label = 'accuracy', color = 'green')\n",
    "\n",
    "plt.xlabel('Epoch')\n",
    "plt.ylabel('Accuracy')\n",
    "plt.title('Training Accuracy')\n",
    "plt.grid(True)\n",
    "\n",
    "plt.tight_layout()\n",
    "plt.show()"
   ]
  },
  {
   "cell_type": "markdown",
   "id": "bbcf1545-2743-4747-b9ef-ccf729560c2c",
   "metadata": {},
   "source": [
    "---\n",
    "We can see a fairly smooth decrease in the loss and a fairly smooth increase in the accuracy. The smoothness of the decrement of loss is an indicator of the fact that the learning rate chosen is good.\n",
    "\n",
    "---"
   ]
  },
  {
   "cell_type": "markdown",
   "id": "b4198793-c0cb-437d-9419-703c2ba2469f",
   "metadata": {},
   "source": [
    "### Testing the model using the Test Dataset"
   ]
  },
  {
   "cell_type": "code",
   "execution_count": 143,
   "id": "2513a16b-ca4a-44a2-9a78-413d579454db",
   "metadata": {},
   "outputs": [
    {
     "name": "stdout",
     "output_type": "stream",
     "text": [
      "\n",
      "Final Test Accuracy: 0.9513\n"
     ]
    }
   ],
   "source": [
    "test_accuracy = compute_accuracy(x_test, y_test_encoded)\n",
    "print(f\"\\nFinal Test Accuracy: {test_accuracy:.4f}\")"
   ]
  },
  {
   "cell_type": "markdown",
   "id": "91f50798-a009-43ff-b348-70cec969957d",
   "metadata": {},
   "source": [
    "---\n",
    "The model is now tested using the Test Dataset. This is the part of the original dataset which the model is seeing for the first time.\n",
    "\n",
    "We have obtained a Final Test Accuracy of 0.9513 and the weights and biases for that particular case has been stored in a .pkl file. \n",
    "\n",
    "---"
   ]
  },
  {
   "cell_type": "markdown",
   "id": "f7db41a5-99ce-452b-ac32-9cae51610639",
   "metadata": {},
   "source": [
    "### To reset the weights \n",
    "(use this only to re-assign random values to the weights so that the model may be trained as if for the first time)"
   ]
  },
  {
   "cell_type": "code",
   "execution_count": 108,
   "id": "14d35412-26dd-4dfd-8365-dc2547a4d48b",
   "metadata": {},
   "outputs": [
    {
     "data": {
      "text/plain": [
       "'\\n# Reinitialize weights and biases\\nw1 = np.random.randn(hidden_size, input_size) * 0.01\\nb1 = np.zeros((hidden_size, 1))\\nw2 = np.random.randn(output_size, hidden_size) * 0.01\\nb2 = np.zeros((output_size, 1))\\n'"
      ]
     },
     "execution_count": 108,
     "metadata": {},
     "output_type": "execute_result"
    }
   ],
   "source": [
    "'''\n",
    "# Reinitialize weights and biases\n",
    "w1 = np.random.randn(hidden_size, input_size) * 0.01\n",
    "b1 = np.zeros((hidden_size, 1))\n",
    "w2 = np.random.randn(output_size, hidden_size) * 0.01\n",
    "b2 = np.zeros((output_size, 1))\n",
    "'''"
   ]
  },
  {
   "cell_type": "markdown",
   "id": "712f5278-b8d3-41c4-85c3-916d6fe65980",
   "metadata": {},
   "source": [
    "#### Saving Model Weights\n",
    "\n",
    "---\n",
    "\n",
    "To save the weights we have obtained for the best accuracy through training. These can be loaded later on if needed.\n",
    "\n",
    "---"
   ]
  },
  {
   "cell_type": "code",
   "execution_count": 110,
   "id": "018dfe64-0808-492b-ad59-d7ba42330004",
   "metadata": {},
   "outputs": [
    {
     "data": {
      "text/plain": [
       "\"\\nimport pickle\\n\\n# Create a dictionary of model parameters\\nmodel_parameters = {\\n    'w1': w1,\\n    'b1': b1,\\n    'w2': w2,\\n    'b2': b2\\n}\\n\\n# Save to a file\\nwith open('mnist_model.pkl', 'wb') as f:\\n    pickle.dump(model_parameters, f)\\n\""
      ]
     },
     "execution_count": 110,
     "metadata": {},
     "output_type": "execute_result"
    }
   ],
   "source": [
    "'''\n",
    "import pickle\n",
    "\n",
    "# Create a dictionary of model parameters\n",
    "model_parameters = {\n",
    "    'w1': w1,\n",
    "    'b1': b1,\n",
    "    'w2': w2,\n",
    "    'b2': b2\n",
    "}\n",
    "\n",
    "# Save to a file\n",
    "with open('mnist_model.pkl', 'wb') as f:\n",
    "    pickle.dump(model_parameters, f)\n",
    "'''"
   ]
  },
  {
   "cell_type": "code",
   "execution_count": 141,
   "id": "ceb1244a-7295-4d04-970e-1e867b361058",
   "metadata": {},
   "outputs": [],
   "source": [
    "'''\n",
    "import pickle\n",
    "# Load from file\n",
    "with open('mnist_model.pkl', 'rb') as f:\n",
    "    loaded_parameters = pickle.load(f)\n",
    "\n",
    "# Extract weights and biases\n",
    "w1 = loaded_parameters['w1']\n",
    "b1 = loaded_parameters['b1']\n",
    "w2 = loaded_parameters['w2']\n",
    "b2 = loaded_parameters['b2']\n",
    "'''"
   ]
  },
  {
   "cell_type": "markdown",
   "id": "63f1a704-5f2b-45b9-8b0d-cc8070b0eed7",
   "metadata": {},
   "source": [
    "---\n",
    "### Results\n",
    "\n",
    "#### Final Accuracy\n",
    "\n",
    "The neural network obtained was an accuracy level of 95.13% after training for several epochs on a dataset of 10000 images. The weights and biases have been stored in a .pkl file and the necessary code needed to access it has been provided. This model was trained using a simple two-layer architecture with ReLU and Softmax activations and optimized using cross-entropy loss.\n",
    "\n",
    "#### Observations\n",
    "\n",
    "- Model showed rapid improvement in the initial epochs, with average loss steadily decreasing.\n",
    "- Sparse activation from the ReLU layer appeared to help generalization.\n",
    "- Softmax paired with cross-entropy loss provided stable training and a better convergence.\n",
    "\n",
    "---\n",
    "### Conclusions\n",
    "\n",
    "#### What I Learned\n",
    "- Implementing a neural network from scratch using Numpy alone helped me gain valuable insight and an intuitive understanding on how each component contributes to the training dynamics.\n",
    "- Developed an understanding on the concepts of forward propagation, backward propagation, activation functions, and loss functions.\n",
    "- Gained insight into the workings of weights, biases, and gradients and how they interact to update the network and improve accuracy.\n",
    "- Learned how to visualize errors and test predictions during training.\n",
    "\n",
    "#### Future Improvements\n",
    "- Extend to batch training instead of individual samples to enable faster convergence.\n",
    "- Add validation set monitoring to better generalize and avoid overfitting.\n",
    "- Experiment with deeper architecture and alternate activation functions like Leaky ReLU.\n",
    "- Use weights initialization techniques like Xavier or He Initialization for improved performance.\n",
    "\n",
    "---"
   ]
  }
 ],
 "metadata": {
  "kernelspec": {
   "display_name": "Python 3 (ipykernel)",
   "language": "python",
   "name": "python3"
  },
  "language_info": {
   "codemirror_mode": {
    "name": "ipython",
    "version": 3
   },
   "file_extension": ".py",
   "mimetype": "text/x-python",
   "name": "python",
   "nbconvert_exporter": "python",
   "pygments_lexer": "ipython3",
   "version": "3.12.7"
  }
 },
 "nbformat": 4,
 "nbformat_minor": 5
}
